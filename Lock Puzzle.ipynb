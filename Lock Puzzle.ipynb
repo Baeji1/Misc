{
 "cells": [
  {
   "cell_type": "markdown",
   "metadata": {},
   "source": [
    "## Problem Statement"
   ]
  },
  {
   "cell_type": "markdown",
   "metadata": {},
   "source": [
    "\n",
    "\n",
    "Problem:\n",
    "4x4 grid contains horizontal and vertical lines. Clicking(choosing) a cell will flip all cells\n",
    "in that row and column (7 flipped cells in total). The aim is to make the entire grid horizontal\n",
    "or vertical with the fewest number of flips. \n",
    "\n",
    "Example:\n",
    "\n",
    "Input:              Output:\n",
    "\n",
    "- - - -             | | | |    or   - - - -\n",
    "| - | -      --->   | | | |         - - - -\n",
    "- - - -             | | | |         - - - -\n",
    "- - - -             | | | |         - - - -\n",
    "\n",
    "Interactive version:\n",
    "https://js13kgames.com/games/lock-puzzle/index.html\n",
    "\n",
    "Found at:\n",
    "https://puzzling.stackexchange.com/questions/96555/is-there-any-easy-way-to-solve-this-lock-puzzle\n",
    "\n",
    "\n",
    "\n"
   ]
  },
  {
   "cell_type": "code",
   "execution_count": 1,
   "metadata": {},
   "outputs": [],
   "source": [
    "def showMatrix(m):\n",
    "    for row in m:\n",
    "        for i in row:\n",
    "            print(f'{i} ',end=\"\")\n",
    "        print()\n",
    "    return"
   ]
  },
  {
   "cell_type": "code",
   "execution_count": 48,
   "metadata": {},
   "outputs": [
    {
     "name": "stdout",
     "output_type": "stream",
     "text": [
      "\n",
      " Inital lock matrix:\n",
      "- | | - \n",
      "| - - | \n",
      "- | - - \n",
      "- - - | \n",
      "\n",
      " For '|' click the locations marked with '○':\n",
      "~ ~ ○ ○ \n",
      "○ ○ ~ ~ \n",
      "○ ○ ○ ~ \n",
      "○ ~ ○ ○ \n",
      "\n",
      " For '-' click the locations marked with '○':\n",
      "○ ○ ~ ~ \n",
      "~ ~ ○ ○ \n",
      "~ ~ ~ ○ \n",
      "~ ○ ~ ~ \n"
     ]
    }
   ],
   "source": [
    "from IPython.display import clear_output\n",
    "\n",
    "n = 4\n",
    "lock_matrix = [[] for i in range(n)]\n",
    "score_matrix = [[] for i in range(n)]\n",
    "score_dict = {'-':1,'|':0}\n",
    "print(\" Enter the lock configuration using '-' and '|': \\n\")\n",
    "\n",
    "for i in range(n):\n",
    "    lock_matrix[i] = list(map(str,input().split(' ')))\n",
    "\n",
    "#--test only---#\n",
    "# lock_matrix = [['|','|','-','-'],['-','|','|','|'],['|','-','|','|'],['|','|','-','-']]\n",
    "#--test only---#\n",
    "\n",
    "score_matrix = [list(map(lambda x: score_dict[x],row)) for row in lock_matrix]\n",
    "\n",
    "clear_output(wait=True)\n",
    "print('\\n Inital lock matrix:')\n",
    "showMatrix(lock_matrix)\n",
    "\n",
    "# 1's and 0's instead of characters\n",
    "# print('\\n Inital score matrix:')\n",
    "# showMatrix(score_matrix)\n",
    "\n",
    "row_sum = []\n",
    "col_sum = []\n",
    "\n",
    "for row in range(n):\n",
    "    row_sum.append(sum(score_matrix[row]))\n",
    "    x = 0\n",
    "    for i in range(n):\n",
    "        x += score_matrix[i][row]\n",
    "    col_sum.append(x)\n",
    "\n",
    "# Number of '-' in every row and column\n",
    "# print(f'\\n Row sum: {row_sum}\\n Col sum:{col_sum}\\n')\n",
    "\n",
    "for i in range(n):\n",
    "    for j in range(n):\n",
    "        score_matrix[i][j] = row_sum[i] + col_sum[j] - score_matrix[i][j]\n",
    "\n",
    "# Number of changed cells on flip\n",
    "# print('\\n Final score matrix:')\n",
    "# showMatrix(score_matrix)\n",
    "\n",
    "for i in range(n):\n",
    "    for j in range(n):\n",
    "        if score_matrix[i][j]%2 == 0:\n",
    "            score_matrix[i][j] = '~'\n",
    "        else:\n",
    "            score_matrix[i][j] = '○'\n",
    "            \n",
    "\n",
    "print('\\n For \\'|\\' click the locations marked with \\'○\\':')\n",
    "showMatrix(score_matrix)\n",
    "\n",
    "for i in range(n):\n",
    "    for j in range(n):\n",
    "        if score_matrix[i][j] == '~':\n",
    "            score_matrix[i][j] = '○'\n",
    "        else:\n",
    "            score_matrix[i][j] = '~'\n",
    "\n",
    "print('\\n For \\'-\\' click the locations marked with \\'○\\':')\n",
    "showMatrix(score_matrix)\n"
   ]
  }
 ],
 "metadata": {
  "celltoolbar": "Raw Cell Format",
  "kernelspec": {
   "display_name": "Python 3",
   "language": "python",
   "name": "python3"
  },
  "language_info": {
   "codemirror_mode": {
    "name": "ipython",
    "version": 3
   },
   "file_extension": ".py",
   "mimetype": "text/x-python",
   "name": "python",
   "nbconvert_exporter": "python",
   "pygments_lexer": "ipython3",
   "version": "3.7.4"
  }
 },
 "nbformat": 4,
 "nbformat_minor": 2
}
